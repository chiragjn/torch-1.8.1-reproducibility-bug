{
 "cells": [
  {
   "cell_type": "code",
   "execution_count": null,
   "id": "b0c20203-485e-4f63-a9a5-b840f92d9d0a",
   "metadata": {},
   "outputs": [],
   "source": [
    "! python --version"
   ]
  },
  {
   "cell_type": "code",
   "execution_count": null,
   "id": "b9af7fae-1ccb-42dd-a36f-e95ae3b459fb",
   "metadata": {
    "tags": []
   },
   "outputs": [],
   "source": [
    "! pip freeze | grep -P '(torch|numpy)'"
   ]
  },
  {
   "cell_type": "code",
   "execution_count": null,
   "id": "9b9ebff9-e25b-4ac4-b15d-04bff08e67eb",
   "metadata": {
    "tags": []
   },
   "outputs": [],
   "source": [
    "! lscpu"
   ]
  },
  {
   "cell_type": "code",
   "execution_count": null,
   "id": "0d55cfd8-f671-48a0-ba95-e60fab00a162",
   "metadata": {
    "tags": []
   },
   "outputs": [],
   "source": [
    "! nvcc --version"
   ]
  },
  {
   "cell_type": "code",
   "execution_count": null,
   "id": "3ce2f3fe-c6a2-46e9-8c21-b0d90daf0612",
   "metadata": {
    "tags": []
   },
   "outputs": [],
   "source": [
    "! nvidia-smi --query-gpu=name,driver_version --format=csv"
   ]
  },
  {
   "cell_type": "code",
   "execution_count": null,
   "id": "796dbca4-7737-480a-b358-6aaab0a72fed",
   "metadata": {
    "tags": []
   },
   "outputs": [],
   "source": [
    "import torch\n",
    "torch.set_printoptions(precision=11)"
   ]
  },
  {
   "cell_type": "code",
   "execution_count": null,
   "id": "751d7c10-dac1-4249-a58e-4d998d4215f7",
   "metadata": {},
   "outputs": [],
   "source": [
    "print(torch.__config__.show())"
   ]
  },
  {
   "cell_type": "code",
   "execution_count": null,
   "id": "27d7d37c-2b22-48fd-a7a5-b899ffc3ad57",
   "metadata": {},
   "outputs": [],
   "source": [
    "print('Cuda', torch.cuda.is_available())"
   ]
  },
  {
   "cell_type": "code",
   "execution_count": null,
   "id": "45f42678-d910-458a-8156-e68ee888ebae",
   "metadata": {
    "tags": []
   },
   "outputs": [],
   "source": [
    "def set_random_seed(seed_value: int, use_cuda: bool = False):\n",
    "    import torch\n",
    "    import numpy as np\n",
    "    import random\n",
    "    np.random.seed(seed_value)  # cpu vars\n",
    "    torch.manual_seed(seed_value)  # cpu  vars\n",
    "    random.seed(seed_value)  # Python\n",
    "    torch.use_deterministic_algorithms(True)\n",
    "    if use_cuda:\n",
    "        torch.cuda.manual_seed(seed_value)\n",
    "        torch.cuda.manual_seed_all(seed_value)  # gpu vars\n",
    "        torch.backends.cudnn.deterministic = True  # needed\n",
    "        torch.backends.cudnn.benchmark = True\n",
    "    \n",
    "\n",
    "def _run_module(layer_norm, dropout, x, use_cuda, train, seed):\n",
    "    if use_cuda:\n",
    "        device = torch.device('cuda:0')\n",
    "    else:\n",
    "        device = torch.device('cpu')\n",
    "    set_random_seed(seed, use_cuda=use_cuda)\n",
    "    layers = []\n",
    "    if layer_norm:\n",
    "        layers.append(torch.nn.LayerNorm(normalized_shape=(x.shape[-1],), eps=1e-12, elementwise_affine=True))\n",
    "    if dropout:\n",
    "        layers.append(torch.nn.Dropout(0.5, inplace=False))\n",
    "        \n",
    "    if not layers:\n",
    "        raise ValueError('set `layer_norm` and/or `dropout` to True')\n",
    "    \n",
    "    model = torch.nn.Sequential(*layers)\n",
    "    model.to(device)\n",
    "    if train:\n",
    "        model.zero_grad()\n",
    "        model.train()\n",
    "    else:\n",
    "        model.eval()\n",
    "    x = x.clone().to(device)\n",
    "    if train:\n",
    "        out = model(x)\n",
    "    else:\n",
    "        with torch.no_grad():\n",
    "            out = model(x)\n",
    "    return out\n",
    "\n",
    "\n",
    "def run_layer_norm_module(seed):\n",
    "    set_random_seed(seed, use_cuda=False)\n",
    "    x = torch.rand(3, 3)\n",
    "    return {\n",
    "        'x': x,\n",
    "        'cpu_t': _run_module(layer_norm=True, dropout=False, x=x, use_cuda=False, train=True, seed=seed),\n",
    "        'cpu_e': _run_module(layer_norm=True, dropout=False, x=x, use_cuda=False, train=False, seed=seed),\n",
    "        'gpu_t': _run_module(layer_norm=True, dropout=False, x=x, use_cuda=True, train=True, seed=seed),\n",
    "        'gpu_e': _run_module(layer_norm=True, dropout=False, x=x, use_cuda=True, train=False, seed=seed)\n",
    "    }\n",
    "\n",
    "\n",
    "\n",
    "def run_dropout_module(seed):\n",
    "    set_random_seed(seed, use_cuda=False)\n",
    "    x = torch.rand(4, 256, 256)\n",
    "    return {\n",
    "        'x': x,\n",
    "        'cpu_t': _run_module(layer_norm=False, dropout=True, x=x, use_cuda=False, train=True, seed=seed),\n",
    "        'gpu_t': _run_module(layer_norm=False, dropout=True, x=x, use_cuda=True, train=True, seed=seed),\n",
    "    }"
   ]
  },
  {
   "cell_type": "code",
   "execution_count": null,
   "id": "3448cdf7-3679-4ce3-aaeb-dc72f7edf181",
   "metadata": {
    "tags": []
   },
   "outputs": [],
   "source": [
    "runs = [run_dropout_module(seed=42) for i in range(5)]\n",
    "\n",
    "for i in range(1, len(runs)):\n",
    "    for k in runs[0]:\n",
    "        assert torch.equal(runs[0][k], runs[i][k]), (i, k)\n",
    "        \n",
    "for k in runs[0]:\n",
    "    if k != 'x':\n",
    "        print(k, (runs[0][k].cpu() == 0.0).sum(axis=-1).tolist())\n",
    "        print('=' * 100)\n",
    "    "
   ]
  },
  {
   "cell_type": "code",
   "execution_count": null,
   "id": "f1551215-8199-4970-bee2-31d652edcccd",
   "metadata": {
    "tags": []
   },
   "outputs": [],
   "source": [
    "runs = [run_layer_norm_module(seed=42) for i in range(5)]\n",
    "\n",
    "for i in range(1, len(runs)):\n",
    "    for k in runs[0]:\n",
    "        assert torch.equal(runs[0][k], runs[i][k]), (i, k)\n",
    "        \n",
    "runs[0]"
   ]
  }
 ],
 "metadata": {
  "kernelspec": {
   "display_name": "Python 3",
   "language": "python",
   "name": "python3"
  },
  "language_info": {
   "codemirror_mode": {
    "name": "ipython",
    "version": 3
   },
   "file_extension": ".py",
   "mimetype": "text/x-python",
   "name": "python",
   "nbconvert_exporter": "python",
   "pygments_lexer": "ipython3",
   "version": "3.6.9"
  }
 },
 "nbformat": 4,
 "nbformat_minor": 5
}
